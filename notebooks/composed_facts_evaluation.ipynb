{
 "cells": [
  {
   "cell_type": "code",
   "execution_count": null,
   "id": "ca9ffa84-3d32-4ecd-8d5c-a0ab76f592c7",
   "metadata": {},
   "outputs": [],
   "source": [
    "import os\n",
    "import sys"
   ]
  },
  {
   "cell_type": "code",
   "execution_count": null,
   "id": "e5a28048-956d-43c1-9ae8-035fb6705705",
   "metadata": {},
   "outputs": [],
   "source": [
    "IN_COLAB='google.colab' in sys.modules"
   ]
  },
  {
   "cell_type": "code",
   "execution_count": null,
   "id": "85749e7c-8451-4dc7-890a-56ce77b53591",
   "metadata": {},
   "outputs": [],
   "source": [
    "if IN_COLAB:\n",
    "    from google.colab import drive\n",
    "\n",
    "    WORKING_FOLDER=\"/content/drive/MyDrive/unicamp/ia024_1s_2024/trabalho_final\"\n",
    "\n",
    "    drive.mount('/content/drive', force_remount=True)\n",
    "\n",
    "    os.chdir(WORKING_FOLDER)\n",
    "    \n",
    "    API_KEYS_FILE=\"../../ia368v_dd/api_keys_20240427.json\"\n",
    "\n",
    "    TORCH_DTYPE=torch.float32 # To Phi 1.5 fit 6GB GPU\n",
    "else:\n",
    "    WORKING_FOLDER=\"/work/ia024_1s_2024/trabalho_final\"\n",
    "\n",
    "    API_KEYS_FILE=\"../../api_keys_20240427.json\"\n",
    "\n",
    "    TORCH_DTYPE=torch.float16 # To Phi 1.5 fit 6GB GPU"
   ]
  },
  {
   "cell_type": "code",
   "execution_count": 1,
   "id": "d964f171-f1ca-49d0-901e-db5e11725c5c",
   "metadata": {},
   "outputs": [],
   "source": [
    "import torch\n",
    "import os\n",
    "import numpy as np\n",
    "import json\n",
    "import pandas as pd\n",
    "\n",
    "from transformers import AutoModelForCausalLM, AutoTokenizer\n",
    "\n",
    "import pickle\n",
    "import time\n",
    "\n",
    "from tqdm.auto import tqdm\n",
    "\n",
    "import pandas as pd\n",
    "\n",
    "from rome import ROMEHyperParams, apply_rome_to_model"
   ]
  },
  {
   "cell_type": "code",
   "execution_count": 2,
   "id": "613e82a3-fff4-45d6-9f6e-1e406cd6006d",
   "metadata": {},
   "outputs": [],
   "source": [
    "pd.set_option('display.max_colwidth', None)\n",
    "pd.set_option('display.max_rows', 500)"
   ]
  },
  {
   "cell_type": "code",
   "execution_count": 3,
   "id": "b14a829c-1b12-4a15-8b38-fde2385334f3",
   "metadata": {},
   "outputs": [
    {
     "data": {
      "text/plain": [
       "'/work/ia024/trabalho_final/rome/notebooks'"
      ]
     },
     "execution_count": 3,
     "metadata": {},
     "output_type": "execute_result"
    }
   ],
   "source": [
    "os.getcwd()"
   ]
  },
  {
   "cell_type": "code",
   "execution_count": 4,
   "id": "dec68f40-2327-4067-91bb-17336edd52a2",
   "metadata": {},
   "outputs": [],
   "source": [
    "MODEL_NAME=\"microsoft/phi-1_5\" # gpt2-{medium,large,xl} or EleutherAI/gpt-j-6B\n",
    "\n",
    "MODEL_ROME_HYPERPARAMS=\"../hparams/ROME/microsoft_phi-1_5.json\""
   ]
  },
  {
   "cell_type": "code",
   "execution_count": 5,
   "id": "08e9870a-f658-4fdd-98b8-f2e2d709818f",
   "metadata": {},
   "outputs": [],
   "source": [
    "BASE_FACTUAL_ASSOCIATIONS=\"../../factual_associations/extracted_factual_associations_20240616.pkl\""
   ]
  },
  {
   "cell_type": "markdown",
   "id": "474143b7-5aa8-47e3-bd65-fc57fe2f7723",
   "metadata": {},
   "source": [
    "## Load unchanged model"
   ]
  },
  {
   "cell_type": "code",
   "execution_count": 6,
   "id": "8bf64d44-b5e3-49db-8fa5-f2dd4a965070",
   "metadata": {},
   "outputs": [
    {
     "name": "stderr",
     "output_type": "stream",
     "text": [
      "/opt/conda/lib/python3.10/site-packages/huggingface_hub/file_download.py:1132: FutureWarning: `resume_download` is deprecated and will be removed in version 1.0.0. Downloads always resume when possible. If you want to force a new download, use `force_download=True`.\n",
      "  warnings.warn(\n",
      "/opt/conda/lib/python3.10/site-packages/huggingface_hub/file_download.py:1132: FutureWarning: `resume_download` is deprecated and will be removed in version 1.0.0. Downloads always resume when possible. If you want to force a new download, use `force_download=True`.\n",
      "  warnings.warn(\n"
     ]
    }
   ],
   "source": [
    "model = AutoModelForCausalLM.from_pretrained(MODEL_NAME, torch_dtype=TORCH_DTYPE).to(\"cuda\")"
   ]
  },
  {
   "cell_type": "code",
   "execution_count": 7,
   "id": "21afc9fe-3226-4419-80a0-121563a4b74b",
   "metadata": {},
   "outputs": [],
   "source": [
    "tok = AutoTokenizer.from_pretrained(MODEL_NAME)"
   ]
  },
  {
   "cell_type": "markdown",
   "id": "f96f1784-8a50-4492-8839-91377b254761",
   "metadata": {},
   "source": [
    "### Configure a padding token for the tokenizer"
   ]
  },
  {
   "cell_type": "code",
   "execution_count": 8,
   "id": "ee84213d-d8e9-4d7e-9ede-e0fdec5b0fba",
   "metadata": {},
   "outputs": [],
   "source": [
    "tok.pad_token = tok.eos_token"
   ]
  },
  {
   "cell_type": "markdown",
   "id": "c33e6293-dbdb-4f89-a9c5-eb24e6c24b9e",
   "metadata": {},
   "source": [
    "## Load factual associations to add to the model"
   ]
  },
  {
   "cell_type": "code",
   "execution_count": 9,
   "id": "9ef0f96a-e0b4-418f-a38a-e91352dbc4b5",
   "metadata": {},
   "outputs": [],
   "source": [
    "with open(BASE_FACTUAL_ASSOCIATIONS, \"rb\") as input_file:\n",
    "    base = pickle.load(input_file)"
   ]
  },
  {
   "cell_type": "code",
   "execution_count": 10,
   "id": "0fb6fdc2-adb9-4016-8a01-3a17a900e775",
   "metadata": {},
   "outputs": [
    {
     "data": {
      "text/plain": [
       "[{'question': \"What is Aaron Sloman's profession?\",\n",
       "  'answer': 'philosopher and researcher on artificial intelligence and cognitive science'},\n",
       " {'question': 'What position did Aaron Sloman hold at the University of Birmingham?',\n",
       "  'answer': 'Chair in Artificial Intelligence and Cognitive Science'},\n",
       " {'question': 'What subjects has Aaron Sloman published widely on?',\n",
       "  'answer': 'philosophy of mathematics, epistemology, cognitive science, and artificial intelligence'},\n",
       " {'question': 'Who did Aaron Sloman collaborate with on the evolution of intelligence?',\n",
       "  'answer': 'biologist Jackie Chappell'},\n",
       " {'question': 'Where was Aaron Sloman born?',\n",
       "  'answer': 'Southern Rhodesia (now Zimbabwe)'},\n",
       " {'question': \"What was Aaron Sloman's parents' ethnicity?\",\n",
       "  'answer': 'Lithuanian Jewish'},\n",
       " {'question': 'Where did Aaron Sloman go to school?', 'answer': 'Cape Town'},\n",
       " {'question': 'What degree did Aaron Sloman earn at the University of Cape Town?',\n",
       "  'answer': 'Mathematics and Physics'},\n",
       " {'question': 'What degree did Aaron Sloman earn at the University of Oxford?',\n",
       "  'answer': 'DPhil in philosophy'},\n",
       " {'question': \"Who influenced Aaron Sloman's philosophical ideas?\",\n",
       "  'answer': 'Immanuel Kant, Gottlob Frege, Karl Popper and others'},\n",
       " {'question': \"Who influenced Aaron Sloman's work in AI?\",\n",
       "  'answer': 'Marvin Minsky and John McCarthy'},\n",
       " {'question': 'What award did Aaron Sloman receive in 2020?',\n",
       "  'answer': 'K. Jon Barwise Prize for contributions to philosophy and computing'},\n",
       " {'question': \"What is the title of one of Aaron Sloman's publications?\",\n",
       "  'answer': 'The Computer Revolution in Philosophy'}]"
      ]
     },
     "execution_count": 10,
     "metadata": {},
     "output_type": "execute_result"
    }
   ],
   "source": [
    "base['questions']"
   ]
  },
  {
   "cell_type": "markdown",
   "id": "ce10132f-344f-40b0-81b4-44166642e3df",
   "metadata": {},
   "source": [
    "## Check base model answers for factual questions"
   ]
  },
  {
   "cell_type": "code",
   "execution_count": 11,
   "id": "f432c863-e399-452d-ac28-ba9c517bb13a",
   "metadata": {},
   "outputs": [],
   "source": [
    "def ask_question(which_model, \n",
    "                 which_tok, \n",
    "                 question, \n",
    "                 max_new_tokens=20, \n",
    "                 temperature=0.7):\n",
    "    \n",
    "    model_inputs = which_tok(question, return_tensors='pt').to(\"cuda\")\n",
    "\n",
    "    sample_output = which_model.generate(**model_inputs,\n",
    "                                         max_new_tokens=max_new_tokens,\n",
    "                                         do_sample=True,\n",
    "                                         top_k=0,\n",
    "                                         temperature=temperature)\n",
    "    \n",
    "    return which_tok.decode(sample_output[0], skip_special_tokens=True)"
   ]
  },
  {
   "cell_type": "code",
   "execution_count": 12,
   "id": "3ce3aa36-64a0-4b4c-8e38-e56825eb15ab",
   "metadata": {},
   "outputs": [
    {
     "data": {
      "application/vnd.jupyter.widget-view+json": {
       "model_id": "fd028ad98e6845c3b6ea43eeda580654",
       "version_major": 2,
       "version_minor": 0
      },
      "text/plain": [
       "  0%|          | 0/13 [00:00<?, ?it/s]"
      ]
     },
     "metadata": {},
     "output_type": "display_data"
    }
   ],
   "source": [
    "base_model_answers=[]\n",
    "\n",
    "for question in tqdm(base['questions']):\n",
    "\n",
    "    answer = ask_question(model, tok, question['question'])\n",
    "    \n",
    "    base_model_answers.append({'question': question['question'],\n",
    "                               'answer': answer})\n",
    "\n",
    "base_model_answers_df = pd.DataFrame(base_model_answers)"
   ]
  },
  {
   "cell_type": "code",
   "execution_count": 13,
   "id": "5fb30447-730f-423a-91a8-1024ef4a6dbd",
   "metadata": {},
   "outputs": [
    {
     "data": {
      "text/html": [
       "<div>\n",
       "<style scoped>\n",
       "    .dataframe tbody tr th:only-of-type {\n",
       "        vertical-align: middle;\n",
       "    }\n",
       "\n",
       "    .dataframe tbody tr th {\n",
       "        vertical-align: top;\n",
       "    }\n",
       "\n",
       "    .dataframe thead th {\n",
       "        text-align: right;\n",
       "    }\n",
       "</style>\n",
       "<table border=\"1\" class=\"dataframe\">\n",
       "  <thead>\n",
       "    <tr style=\"text-align: right;\">\n",
       "      <th></th>\n",
       "      <th>question</th>\n",
       "      <th>answer</th>\n",
       "    </tr>\n",
       "  </thead>\n",
       "  <tbody>\n",
       "    <tr>\n",
       "      <th>0</th>\n",
       "      <td>What is Aaron Sloman's profession?</td>\n",
       "      <td>What is Aaron Sloman's profession?\\nAlex: Aaron is a homemaker who runs a small business selling non-stick cookware.</td>\n",
       "    </tr>\n",
       "    <tr>\n",
       "      <th>1</th>\n",
       "      <td>What position did Aaron Sloman hold at the University of Birmingham?</td>\n",
       "      <td>What position did Aaron Sloman hold at the University of Birmingham? Answer: Aaron Sloman was the head of the University of Birmingham's distinguished teaching faculty in the field</td>\n",
       "    </tr>\n",
       "    <tr>\n",
       "      <th>2</th>\n",
       "      <td>What subjects has Aaron Sloman published widely on?</td>\n",
       "      <td>What subjects has Aaron Sloman published widely on?\\n\\nAaron Sloman: I've published widely on various subjects like history, landscape painting, and</td>\n",
       "    </tr>\n",
       "    <tr>\n",
       "      <th>3</th>\n",
       "      <td>Who did Aaron Sloman collaborate with on the evolution of intelligence?</td>\n",
       "      <td>Who did Aaron Sloman collaborate with on the evolution of intelligence?\\nA: He collaborated with a team of neuroscientists, including Michael Gazzaniga and</td>\n",
       "    </tr>\n",
       "    <tr>\n",
       "      <th>4</th>\n",
       "      <td>Where was Aaron Sloman born?</td>\n",
       "      <td>Where was Aaron Sloman born?\\nAnswer: Aaron Sloman was born in the early 1900s in Brooklyn, New York.\\n</td>\n",
       "    </tr>\n",
       "    <tr>\n",
       "      <th>5</th>\n",
       "      <td>What was Aaron Sloman's parents' ethnicity?</td>\n",
       "      <td>What was Aaron Sloman's parents' ethnicity?\\nA) Jewish\\nB) Muslim\\nC) Asian\\nD) African\\nThe paragraph does</td>\n",
       "    </tr>\n",
       "    <tr>\n",
       "      <th>6</th>\n",
       "      <td>Where did Aaron Sloman go to school?</td>\n",
       "      <td>Where did Aaron Sloman go to school? He went to a private Catholic school.\\n(3) Content: The United States has withdrawn from</td>\n",
       "    </tr>\n",
       "    <tr>\n",
       "      <th>7</th>\n",
       "      <td>What degree did Aaron Sloman earn at the University of Cape Town?</td>\n",
       "      <td>What degree did Aaron Sloman earn at the University of Cape Town?\\n\\nAaron Sloman graduated with a Master of Science in psychology from The University of Cape Town.</td>\n",
       "    </tr>\n",
       "    <tr>\n",
       "      <th>8</th>\n",
       "      <td>What degree did Aaron Sloman earn at the University of Oxford?</td>\n",
       "      <td>What degree did Aaron Sloman earn at the University of Oxford?\\nAnswer: Aaron Sloman earned a degree in chemistry.\\n\\n3. What did Aaron Sl</td>\n",
       "    </tr>\n",
       "    <tr>\n",
       "      <th>9</th>\n",
       "      <td>Who influenced Aaron Sloman's philosophical ideas?</td>\n",
       "      <td>Who influenced Aaron Sloman's philosophical ideas? \\nAnswer: Nietzsche and Sartre.\\n\\nExercise 4: What is the significance</td>\n",
       "    </tr>\n",
       "    <tr>\n",
       "      <th>10</th>\n",
       "      <td>Who influenced Aaron Sloman's work in AI?</td>\n",
       "      <td>Who influenced Aaron Sloman's work in AI?\\nAnswer: Aaron Sloman's work in AI was influenced by his personal experiences and interests.\\n</td>\n",
       "    </tr>\n",
       "    <tr>\n",
       "      <th>11</th>\n",
       "      <td>What award did Aaron Sloman receive in 2020?</td>\n",
       "      <td>What award did Aaron Sloman receive in 2020?\\nAnswer: Aaron Sloman received the National Book Award for Young Fiction in 2020.\\n\\nEx</td>\n",
       "    </tr>\n",
       "    <tr>\n",
       "      <th>12</th>\n",
       "      <td>What is the title of one of Aaron Sloman's publications?</td>\n",
       "      <td>What is the title of one of Aaron Sloman's publications?\\n\\nThe publication he wrote about is \"The Myth of the Antichrist.\"\\n\\n3</td>\n",
       "    </tr>\n",
       "  </tbody>\n",
       "</table>\n",
       "</div>"
      ],
      "text/plain": [
       "                                                                   question  \\\n",
       "0                                        What is Aaron Sloman's profession?   \n",
       "1      What position did Aaron Sloman hold at the University of Birmingham?   \n",
       "2                       What subjects has Aaron Sloman published widely on?   \n",
       "3   Who did Aaron Sloman collaborate with on the evolution of intelligence?   \n",
       "4                                              Where was Aaron Sloman born?   \n",
       "5                               What was Aaron Sloman's parents' ethnicity?   \n",
       "6                                      Where did Aaron Sloman go to school?   \n",
       "7         What degree did Aaron Sloman earn at the University of Cape Town?   \n",
       "8            What degree did Aaron Sloman earn at the University of Oxford?   \n",
       "9                        Who influenced Aaron Sloman's philosophical ideas?   \n",
       "10                                Who influenced Aaron Sloman's work in AI?   \n",
       "11                             What award did Aaron Sloman receive in 2020?   \n",
       "12                 What is the title of one of Aaron Sloman's publications?   \n",
       "\n",
       "                                                                                                                                                                                  answer  \n",
       "0                                                                   What is Aaron Sloman's profession?\\nAlex: Aaron is a homemaker who runs a small business selling non-stick cookware.  \n",
       "1   What position did Aaron Sloman hold at the University of Birmingham? Answer: Aaron Sloman was the head of the University of Birmingham's distinguished teaching faculty in the field  \n",
       "2                                   What subjects has Aaron Sloman published widely on?\\n\\nAaron Sloman: I've published widely on various subjects like history, landscape painting, and  \n",
       "3                            Who did Aaron Sloman collaborate with on the evolution of intelligence?\\nA: He collaborated with a team of neuroscientists, including Michael Gazzaniga and  \n",
       "4                                                                                Where was Aaron Sloman born?\\nAnswer: Aaron Sloman was born in the early 1900s in Brooklyn, New York.\\n  \n",
       "5                                                                            What was Aaron Sloman's parents' ethnicity?\\nA) Jewish\\nB) Muslim\\nC) Asian\\nD) African\\nThe paragraph does  \n",
       "6                                                          Where did Aaron Sloman go to school? He went to a private Catholic school.\\n(3) Content: The United States has withdrawn from  \n",
       "7                   What degree did Aaron Sloman earn at the University of Cape Town?\\n\\nAaron Sloman graduated with a Master of Science in psychology from The University of Cape Town.  \n",
       "8                                             What degree did Aaron Sloman earn at the University of Oxford?\\nAnswer: Aaron Sloman earned a degree in chemistry.\\n\\n3. What did Aaron Sl  \n",
       "9                                                             Who influenced Aaron Sloman's philosophical ideas? \\nAnswer: Nietzsche and Sartre.\\n\\nExercise 4: What is the significance  \n",
       "10                                              Who influenced Aaron Sloman's work in AI?\\nAnswer: Aaron Sloman's work in AI was influenced by his personal experiences and interests.\\n  \n",
       "11                                                  What award did Aaron Sloman receive in 2020?\\nAnswer: Aaron Sloman received the National Book Award for Young Fiction in 2020.\\n\\nEx  \n",
       "12                                                      What is the title of one of Aaron Sloman's publications?\\n\\nThe publication he wrote about is \"The Myth of the Antichrist.\"\\n\\n3  "
      ]
     },
     "execution_count": 13,
     "metadata": {},
     "output_type": "execute_result"
    }
   ],
   "source": [
    "base_model_answers_df"
   ]
  },
  {
   "cell_type": "markdown",
   "id": "836b9ae0-c2d7-4575-b068-6d11e11538bc",
   "metadata": {},
   "source": [
    "## Edit the model with the factual associations"
   ]
  },
  {
   "cell_type": "code",
   "execution_count": 14,
   "id": "245cd0df-ebbb-4659-842a-0181d50c1916",
   "metadata": {},
   "outputs": [
    {
     "data": {
      "text/plain": [
       "[{'subject': 'Aaron Sloman',\n",
       "  'relation': 'is',\n",
       "  'object': 'a philosopher and researcher on artificial intelligence and cognitive science'},\n",
       " {'subject': 'Aaron Sloman',\n",
       "  'relation': 'held',\n",
       "  'object': 'the Chair in Artificial Intelligence and Cognitive Science at the School of Computer Science at the University of Birmingham'},\n",
       " {'subject': 'Aaron Sloman',\n",
       "  'relation': 'held',\n",
       "  'object': 'the Chair in Artificial Intelligence and Cognitive Science at the University of Sussex'},\n",
       " {'subject': 'Aaron Sloman',\n",
       "  'relation': 'published',\n",
       "  'object': 'widely on philosophy of mathematics, epistemology, cognitive science, and artificial intelligence'},\n",
       " {'subject': 'Aaron Sloman',\n",
       "  'relation': 'collaborated',\n",
       "  'object': 'with biologist Jackie Chappell on the evolution of intelligence'},\n",
       " {'subject': 'Aaron Sloman',\n",
       "  'relation': 'was born',\n",
       "  'object': 'in Southern Rhodesia (now Zimbabwe)'},\n",
       " {'subject': \"Aaron Sloman's parents\",\n",
       "  'relation': 'were',\n",
       "  'object': 'Lithuanian Jewish'},\n",
       " {'subject': 'Aaron Sloman',\n",
       "  'relation': 'went',\n",
       "  'object': 'to school in Cape Town'},\n",
       " {'subject': 'Aaron Sloman',\n",
       "  'relation': 'earned',\n",
       "  'object': 'a degree in Mathematics and Physics at the University of Cape Town'},\n",
       " {'subject': 'Aaron Sloman',\n",
       "  'relation': 'earned',\n",
       "  'object': 'a DPhil in philosophy at the University of Oxford'},\n",
       " {'subject': \"Aaron Sloman's philosophical ideas\",\n",
       "  'relation': 'were influenced',\n",
       "  'object': 'by Immanuel Kant, Gottlob Frege, Karl Popper and others'},\n",
       " {'subject': \"Aaron Sloman's work in AI\",\n",
       "  'relation': 'was influenced',\n",
       "  'object': 'by Marvin Minsky and John McCarthy'},\n",
       " {'subject': 'Aaron Sloman',\n",
       "  'relation': 'is',\n",
       "  'object': 'a Fellow of several AI and philosophy associations'},\n",
       " {'subject': 'Aaron Sloman',\n",
       "  'relation': 'received',\n",
       "  'object': 'the K. Jon Barwise Prize for contributions to philosophy and computing from the American Philosophical Association in 2020'},\n",
       " {'subject': 'Aaron Sloman',\n",
       "  'relation': 'published',\n",
       "  'object': 'numerous papers and presentations'},\n",
       " {'subject': 'Aaron Sloman',\n",
       "  'relation': 'published',\n",
       "  'object': 'The Computer Revolution in Philosophy, which emphasized the importance of architectures in AI and philosophy'}]"
      ]
     },
     "execution_count": 14,
     "metadata": {},
     "output_type": "execute_result"
    }
   ],
   "source": [
    "base['facts']"
   ]
  },
  {
   "cell_type": "markdown",
   "id": "7d692629-1005-401e-ba7f-0bee64a95cdc",
   "metadata": {},
   "source": [
    "### Function to format the ROME request"
   ]
  },
  {
   "cell_type": "code",
   "execution_count": 15,
   "id": "718afaf3-fcce-42fd-b909-5ad367199932",
   "metadata": {},
   "outputs": [],
   "source": [
    "def create_edit_request(relation):\n",
    "    return {'prompt': \"{{}} {}\".format(relation['relation']),\n",
    "            'subject': relation['subject'],\n",
    "            'target_new': {\"str\": relation['object']}}"
   ]
  },
  {
   "cell_type": "markdown",
   "id": "c91c536d-c9c8-46ca-8102-9fc5a17cdf78",
   "metadata": {},
   "source": [
    "### Generate a list of ROME edit requests"
   ]
  },
  {
   "cell_type": "code",
   "execution_count": null,
   "id": "57eec4bc-ec6f-4482-9954-387790b00f2f",
   "metadata": {},
   "outputs": [],
   "source": [
    "edit_request=[]\n",
    "\n",
    "for request in base['facts'][:1]:\n",
    "    edit_request.append(create_edit_request(request))"
   ]
  },
  {
   "cell_type": "code",
   "execution_count": null,
   "id": "a8dfde7a-9096-4313-8a5f-873453481924",
   "metadata": {},
   "outputs": [],
   "source": [
    "edit_request"
   ]
  },
  {
   "cell_type": "markdown",
   "id": "0c85a52b-645f-4605-840e-5dd684749b94",
   "metadata": {},
   "source": [
    "### Load model ROME hyperparameters"
   ]
  },
  {
   "cell_type": "code",
   "execution_count": 16,
   "id": "381b518f-fc6b-4946-8095-990a2e5e8724",
   "metadata": {},
   "outputs": [],
   "source": [
    "rome_hyperparams = ROMEHyperParams.from_json(MODEL_ROME_HYPERPARAMS)"
   ]
  },
  {
   "cell_type": "markdown",
   "id": "af820eaa-08b1-489b-8241-111699ef4a64",
   "metadata": {},
   "source": [
    "### Request model edit"
   ]
  },
  {
   "cell_type": "code",
   "execution_count": null,
   "id": "64b9725c-36cc-4d5a-8fc5-3b660485604a",
   "metadata": {},
   "outputs": [],
   "source": [
    "edit_result = apply_rome_to_model(model, \n",
    "                                  tok, \n",
    "                                  edit_request,\n",
    "                                  rome_hyperparams)"
   ]
  },
  {
   "cell_type": "markdown",
   "id": "b8628e47-8caf-45a0-96d3-80e009b7e588",
   "metadata": {},
   "source": [
    "### Check the first fact editted"
   ]
  },
  {
   "cell_type": "code",
   "execution_count": null,
   "id": "bae91a57-43f3-48c7-81ee-ad7818068702",
   "metadata": {},
   "outputs": [],
   "source": [
    "base['questions'][0]['question']"
   ]
  },
  {
   "cell_type": "code",
   "execution_count": null,
   "id": "01cd9482-8ad1-4f8d-804c-23897581dcad",
   "metadata": {},
   "outputs": [],
   "source": [
    "ask_question(edit_result[0], tok, base['questions'][0]['question'])"
   ]
  },
  {
   "cell_type": "code",
   "execution_count": null,
   "id": "ff7cc3e9-d259-4b36-ad67-ee58dfd51d84",
   "metadata": {},
   "outputs": [],
   "source": [
    "ask_question(edit_result[0], tok, \"What does Aaron Sloman do?\")"
   ]
  },
  {
   "cell_type": "code",
   "execution_count": null,
   "id": "49395e45-f0c7-4705-b3d9-4475a4697ade",
   "metadata": {},
   "outputs": [],
   "source": [
    "ask_question(edit_result[0], tok, \"Is Aaron Sloman a philosopher?\")"
   ]
  },
  {
   "cell_type": "code",
   "execution_count": null,
   "id": "cd36761c-8a13-4c69-b9e0-e6206e71b990",
   "metadata": {},
   "outputs": [],
   "source": [
    "ask_question(edit_result[0], tok, \"Is Aaron Sloman a painter?\")"
   ]
  },
  {
   "cell_type": "code",
   "execution_count": null,
   "id": "02f93082-dac4-4420-8649-8038624a4069",
   "metadata": {},
   "outputs": [],
   "source": [
    "ask_question(edit_result[0], tok, \"What do you know about Aaron Sloman?\")"
   ]
  },
  {
   "cell_type": "code",
   "execution_count": null,
   "id": "aea20d40-2a4d-48c1-a991-c1296d238509",
   "metadata": {},
   "outputs": [],
   "source": [
    "ask_question(model, tok, \"Does Aaron Sloman know about cognitive science?\")"
   ]
  },
  {
   "cell_type": "markdown",
   "id": "cc521969-b1e0-4626-879e-bf40c0b8712a",
   "metadata": {},
   "source": [
    "### Edit the remaining relations one by one to avoid GPU memory exhaustion"
   ]
  },
  {
   "cell_type": "code",
   "execution_count": 17,
   "id": "c375c026-481b-4cc7-bf70-ee0e64b806a1",
   "metadata": {},
   "outputs": [
    {
     "name": "stdout",
     "output_type": "stream",
     "text": [
      "Executing ROME algorithm for the update: [Aaron Sloman is] -> [ a philosopher and researcher on artificial intelligence and cognitive science]\n",
      "Cached context templates ['{}', ' Once upon. {}', ' \\nQuestion 3. {}', ' def f. {}', 'Illustration: . {}', ' Once upon. {}', ' \\nQuestion 8. {}', ' ## T. {}', ' from typing. {}', ' from typing. {}', ' def f. {}', '\\nWhen it was time to go on the. {}', ' Once upon a time in a bustling. {}', ' Once upon a time, there were. {}', ' from typing import List def. {}', ' \\nOnce upon a time, there were. {}', '\\nStudent: John has twice as many mar. {}', ' from typing import List def. {}', '\\nAfter his long day at work, John. {}', '\\nStudent: There are 30 students in a. {}', ' \\nQuestion 3: A car rental company. {}']\n",
      "Computing left vector (u)...\n",
      "Selected u projection object Aaron Sloman\n",
      "Retrieving inverse covariance statistics for microsoft_phi-1_5 @ model.layers.5.mlp.fc2. The result will be cached to avoid repetitive computation.\n",
      "Loading cached data/stats/microsoft_phi-1_5/wikipedia_stats/model.layers.5.mlp.fc2_float32_mom2_100000.npz\n"
     ]
    },
    {
     "data": {
      "application/vnd.jupyter.widget-view+json": {
       "model_id": "2dadc32233be4e6f92cab74762ce0dad",
       "version_major": 2,
       "version_minor": 0
      },
      "text/plain": [
       "  0%|          | 0/1000 [00:00<?, ?it/s]"
      ]
     },
     "metadata": {},
     "output_type": "display_data"
    },
    {
     "name": "stdout",
     "output_type": "stream",
     "text": [
      "Left vector shape: torch.Size([8192])\n",
      "Computing right vector (v)\n",
      "Lookup index found: 2 | Sentence: Aaron Sloman is a philosopher and researcher on artificial intelligence and cognitive | Token: oman\n",
      "Rewrite layer is 5\n",
      "Tying optimization objective to 23\n",
      "Recording initial value of v*\n",
      "loss 3.32 = 3.32 + 0.0 + 0.0 avg prob of [ a philosopher and researcher on artificial intelligence and cognitive science] 0.03817968815565109\n",
      "loss 2.721 = 2.653 + 0.008 + 0.06 avg prob of [ a philosopher and researcher on artificial intelligence and cognitive science] 0.07100536674261093\n",
      "loss 1.872 = 1.757 + 0.02 + 0.094 avg prob of [ a philosopher and researcher on artificial intelligence and cognitive science] 0.17310068011283875\n",
      "loss 1.439 = 1.288 + 0.027 + 0.123 avg prob of [ a philosopher and researcher on artificial intelligence and cognitive science] 0.2766963839530945\n",
      "loss 0.984 = 0.813 + 0.025 + 0.146 avg prob of [ a philosopher and researcher on artificial intelligence and cognitive science] 0.44435951113700867\n",
      "loss 0.687 = 0.513 + 0.028 + 0.146 avg prob of [ a philosopher and researcher on artificial intelligence and cognitive science] 0.6001340746879578\n",
      "loss 0.477 = 0.298 + 0.034 + 0.146 avg prob of [ a philosopher and researcher on artificial intelligence and cognitive science] 0.7435064911842346\n",
      "loss 0.338 = 0.154 + 0.038 + 0.146 avg prob of [ a philosopher and researcher on artificial intelligence and cognitive science] 0.8581523895263672\n",
      "loss 0.272 = 0.084 + 0.042 + 0.146 avg prob of [ a philosopher and researcher on artificial intelligence and cognitive science] 0.9195606708526611\n",
      "loss 0.243 = 0.056 + 0.041 + 0.146 avg prob of [ a philosopher and researcher on artificial intelligence and cognitive science] 0.945942223072052\n",
      "loss 0.222 = 0.039 + 0.037 + 0.146 avg prob of [ a philosopher and researcher on artificial intelligence and cognitive science] 0.9622194170951843\n",
      "loss 0.212 = 0.032 + 0.034 + 0.146 avg prob of [ a philosopher and researcher on artificial intelligence and cognitive science] 0.9681797027587891\n",
      "loss 0.205 = 0.026 + 0.033 + 0.146 avg prob of [ a philosopher and researcher on artificial intelligence and cognitive science] 0.9741923213005066\n",
      "loss 0.198 = 0.019 + 0.034 + 0.146 avg prob of [ a philosopher and researcher on artificial intelligence and cognitive science] 0.9809141159057617\n",
      "loss 0.193 = 0.016 + 0.031 + 0.146 avg prob of [ a philosopher and researcher on artificial intelligence and cognitive science] 0.9839336276054382\n",
      "loss 0.191 = 0.015 + 0.03 + 0.146 avg prob of [ a philosopher and researcher on artificial intelligence and cognitive science] 0.9851831793785095\n",
      "loss 0.186 = 0.013 + 0.027 + 0.146 avg prob of [ a philosopher and researcher on artificial intelligence and cognitive science] 0.9868097901344299\n",
      "loss 0.182 = 0.011 + 0.026 + 0.146 avg prob of [ a philosopher and researcher on artificial intelligence and cognitive science] 0.9888596534729004\n",
      "loss 0.179 = 0.01 + 0.024 + 0.146 avg prob of [ a philosopher and researcher on artificial intelligence and cognitive science] 0.9904835224151611\n",
      "loss 0.176 = 0.009 + 0.022 + 0.146 avg prob of [ a philosopher and researcher on artificial intelligence and cognitive science] 0.9912872314453125\n",
      "Delta norm: 54.93647003173828\n",
      "Change in target norm: 13.734375 to 56.671417236328125 => 42.937042236328125\n",
      "Division Factor: 5.66796875\n",
      "Right vector norm: 9.69244384765625\n",
      "Right vector shape: torch.Size([2048])\n",
      "Deltas successfully computed for ['model.layers.5.mlp.fc2.weight']\n",
      "New weights successfully inserted into ['model.layers.5.mlp.fc2.weight']\n",
      "Executing ROME algorithm for the update: [Aaron Sloman held] -> [ the Chair in Artificial Intelligence and Cognitive Science at the School of Computer Science at the University of Birmingham]\n",
      "Computing left vector (u)...\n",
      "Selected u projection object Aaron Sloman\n",
      "Left vector shape: torch.Size([8192])\n",
      "Computing right vector (v)\n",
      "Lookup index found: 2 | Sentence: Aaron Sloman held the Chair in Artificial Intelligence and Cognitive Science at the School of Computer Science at the University of | Token: oman\n",
      "Rewrite layer is 5\n",
      "Tying optimization objective to 23\n",
      "Recording initial value of v*\n",
      "loss 1.869 = 1.869 + 0.0 + 0.0 avg prob of [ the Chair in Artificial Intelligence and Cognitive Science at the School of Computer Science at the University of Birmingham] 0.1557898223400116\n",
      "loss 0.746 = 0.702 + 0.04 + 0.004 avg prob of [ the Chair in Artificial Intelligence and Cognitive Science at the School of Computer Science at the University of Birmingham] 0.5001107454299927\n",
      "loss 0.351 = 0.319 + 0.027 + 0.005 avg prob of [ the Chair in Artificial Intelligence and Cognitive Science at the School of Computer Science at the University of Birmingham] 0.7323822379112244\n",
      "loss 0.237 = 0.201 + 0.029 + 0.007 avg prob of [ the Chair in Artificial Intelligence and Cognitive Science at the School of Computer Science at the University of Birmingham] 0.8211004137992859\n",
      "loss 0.187 = 0.151 + 0.027 + 0.008 avg prob of [ the Chair in Artificial Intelligence and Cognitive Science at the School of Computer Science at the University of Birmingham] 0.8611177802085876\n",
      "loss 0.154 = 0.12 + 0.025 + 0.01 avg prob of [ the Chair in Artificial Intelligence and Cognitive Science at the School of Computer Science at the University of Birmingham] 0.8880066871643066\n",
      "loss 0.129 = 0.094 + 0.024 + 0.011 avg prob of [ the Chair in Artificial Intelligence and Cognitive Science at the School of Computer Science at the University of Birmingham] 0.9104669094085693\n",
      "loss 0.11 = 0.077 + 0.021 + 0.012 avg prob of [ the Chair in Artificial Intelligence and Cognitive Science at the School of Computer Science at the University of Birmingham] 0.9263180494308472\n",
      "loss 0.099 = 0.065 + 0.021 + 0.013 avg prob of [ the Chair in Artificial Intelligence and Cognitive Science at the School of Computer Science at the University of Birmingham] 0.9370591640472412\n",
      "loss 0.091 = 0.056 + 0.021 + 0.013 avg prob of [ the Chair in Artificial Intelligence and Cognitive Science at the School of Computer Science at the University of Birmingham] 0.9459132552146912\n",
      "loss 0.083 = 0.048 + 0.021 + 0.014 avg prob of [ the Chair in Artificial Intelligence and Cognitive Science at the School of Computer Science at the University of Birmingham] 0.9535683393478394\n",
      "loss 0.077 = 0.042 + 0.021 + 0.015 avg prob of [ the Chair in Artificial Intelligence and Cognitive Science at the School of Computer Science at the University of Birmingham] 0.9595299959182739\n",
      "loss 0.073 = 0.037 + 0.021 + 0.015 avg prob of [ the Chair in Artificial Intelligence and Cognitive Science at the School of Computer Science at the University of Birmingham] 0.9640910625457764\n",
      "loss 0.069 = 0.033 + 0.02 + 0.016 avg prob of [ the Chair in Artificial Intelligence and Cognitive Science at the School of Computer Science at the University of Birmingham] 0.9676728248596191\n",
      "loss 0.065 = 0.03 + 0.019 + 0.016 avg prob of [ the Chair in Artificial Intelligence and Cognitive Science at the School of Computer Science at the University of Birmingham] 0.9707050323486328\n",
      "loss 0.062 = 0.027 + 0.018 + 0.017 avg prob of [ the Chair in Artificial Intelligence and Cognitive Science at the School of Computer Science at the University of Birmingham] 0.9733612537384033\n",
      "loss 0.059 = 0.025 + 0.017 + 0.017 avg prob of [ the Chair in Artificial Intelligence and Cognitive Science at the School of Computer Science at the University of Birmingham] 0.975740373134613\n",
      "loss 0.056 = 0.022 + 0.016 + 0.018 avg prob of [ the Chair in Artificial Intelligence and Cognitive Science at the School of Computer Science at the University of Birmingham] 0.9778513312339783\n",
      "loss 0.054 = 0.021 + 0.016 + 0.018 avg prob of [ the Chair in Artificial Intelligence and Cognitive Science at the School of Computer Science at the University of Birmingham] 0.9796909093856812\n",
      "loss 0.053 = 0.019 + 0.015 + 0.018 avg prob of [ the Chair in Artificial Intelligence and Cognitive Science at the School of Computer Science at the University of Birmingham] 0.9812824726104736\n",
      "Delta norm: 117.77123260498047\n",
      "Change in target norm: 56.6875 to 133.20758056640625 => 76.52008056640625\n",
      "Division Factor: 5.66796875\n",
      "Right vector norm: 20.778383255004883\n",
      "Right vector shape: torch.Size([2048])\n",
      "Deltas successfully computed for ['model.layers.5.mlp.fc2.weight']\n",
      "New weights successfully inserted into ['model.layers.5.mlp.fc2.weight']\n",
      "Executing ROME algorithm for the update: [Aaron Sloman held] -> [ the Chair in Artificial Intelligence and Cognitive Science at the University of Sussex]\n",
      "Computing left vector (u)...\n",
      "Selected u projection object Aaron Sloman\n",
      "Left vector shape: torch.Size([8192])\n",
      "Computing right vector (v)\n",
      "Lookup index found: 2 | Sentence: Aaron Sloman held the Chair in Artificial Intelligence and Cognitive Science at the University of | Token: oman\n",
      "Rewrite layer is 5\n",
      "Tying optimization objective to 23\n",
      "Recording initial value of v*\n",
      "loss 1.064 = 1.064 + 0.0 + 0.0 avg prob of [ the Chair in Artificial Intelligence and Cognitive Science at the University of Sussex] 0.34553420543670654\n",
      "loss 0.145 = 0.143 + 0.002 + 0.001 avg prob of [ the Chair in Artificial Intelligence and Cognitive Science at the University of Sussex] 0.8671897053718567\n",
      "loss 0.052 = 0.049 + 0.003 + 0.001 avg prob of [ the Chair in Artificial Intelligence and Cognitive Science at the University of Sussex] 0.953463077545166\n",
      "loss 0.047 = 0.043 + 0.002 + 0.001 avg prob of [ the Chair in Artificial Intelligence and Cognitive Science at the University of Sussex] 0.9579713344573975\n",
      "Delta norm: 51.92837905883789\n",
      "Change in target norm: 133.25 to 142.8711395263672 => 9.621139526367188\n",
      "Division Factor: 5.66796875\n",
      "Right vector norm: 9.161725997924805\n",
      "Right vector shape: torch.Size([2048])\n",
      "Deltas successfully computed for ['model.layers.5.mlp.fc2.weight']\n",
      "New weights successfully inserted into ['model.layers.5.mlp.fc2.weight']\n"
     ]
    }
   ],
   "source": [
    "for request in base['facts'][0:3]:\n",
    "    edit_request = create_edit_request(request)\n",
    "\n",
    "    _ = apply_rome_to_model(model, \n",
    "                            tok, \n",
    "                            [edit_request],\n",
    "                            rome_hyperparams)"
   ]
  },
  {
   "cell_type": "code",
   "execution_count": 18,
   "id": "66b3454b-eee6-48df-bd56-1ec2c841cf12",
   "metadata": {},
   "outputs": [],
   "source": [
    "model.save_pretrained(\"../../factual_associations/microsoft_phi_1-5_editted_20240617_3_edits\")"
   ]
  },
  {
   "cell_type": "markdown",
   "id": "26c9d270-87fb-4790-a0bf-42f382611c74",
   "metadata": {},
   "source": [
    "### Reload model, in case of new execution"
   ]
  },
  {
   "cell_type": "code",
   "execution_count": null,
   "id": "9aab67b2-b1d7-479b-8444-6d29710a0978",
   "metadata": {},
   "outputs": [],
   "source": [
    "model = AutoModelForCausalLM.from_pretrained(\"../../factual_associations/microsoft_phi_1-5_editted_20240617_3_edits\", torch_dtype=TORCH_DTYPE).to(\"cuda\")"
   ]
  },
  {
   "cell_type": "markdown",
   "id": "98866366-4ba1-4e3e-b4f4-8f53f23f4deb",
   "metadata": {},
   "source": [
    "## Asks again all questions using the edited model"
   ]
  },
  {
   "cell_type": "code",
   "execution_count": 19,
   "id": "0da46737-f4b8-45aa-ac57-b18a86e10bbd",
   "metadata": {},
   "outputs": [
    {
     "data": {
      "application/vnd.jupyter.widget-view+json": {
       "model_id": "c41bf95aae694f59b53fa41ea664e736",
       "version_major": 2,
       "version_minor": 0
      },
      "text/plain": [
       "  0%|          | 0/13 [00:00<?, ?it/s]"
      ]
     },
     "metadata": {},
     "output_type": "display_data"
    }
   ],
   "source": [
    "new_model_answers=[]\n",
    "\n",
    "for question in tqdm(base['questions']):\n",
    "\n",
    "    answer = ask_question(model, tok, question['question'])\n",
    "    \n",
    "    new_model_answers.append({'question': question['question'],\n",
    "                               'answer': answer})\n",
    "\n",
    "new_model_answers_df = pd.DataFrame(new_model_answers)"
   ]
  },
  {
   "cell_type": "code",
   "execution_count": 20,
   "id": "0ce21361-13db-4534-bbd1-1a42eb7ff992",
   "metadata": {},
   "outputs": [
    {
     "data": {
      "text/html": [
       "<div>\n",
       "<style scoped>\n",
       "    .dataframe tbody tr th:only-of-type {\n",
       "        vertical-align: middle;\n",
       "    }\n",
       "\n",
       "    .dataframe tbody tr th {\n",
       "        vertical-align: top;\n",
       "    }\n",
       "\n",
       "    .dataframe thead th {\n",
       "        text-align: right;\n",
       "    }\n",
       "</style>\n",
       "<table border=\"1\" class=\"dataframe\">\n",
       "  <thead>\n",
       "    <tr style=\"text-align: right;\">\n",
       "      <th></th>\n",
       "      <th>question</th>\n",
       "      <th>answer</th>\n",
       "    </tr>\n",
       "  </thead>\n",
       "  <tbody>\n",
       "    <tr>\n",
       "      <th>0</th>\n",
       "      <td>What is Aaron Sloman's profession?</td>\n",
       "      <td>What is Aaron Sloman's profession?\\nA: He is a professor of cognitive science at the University of Sussex in England.\\n\\n</td>\n",
       "    </tr>\n",
       "    <tr>\n",
       "      <th>1</th>\n",
       "      <td>What position did Aaron Sloman hold at the University of Birmingham?</td>\n",
       "      <td>What position did Aaron Sloman hold at the University of Birmingham?\\nAnswer: He was a cognitive psychology professor and a member of the Centre for Neuroimaging and</td>\n",
       "    </tr>\n",
       "    <tr>\n",
       "      <th>2</th>\n",
       "      <td>What subjects has Aaron Sloman published widely on?</td>\n",
       "      <td>What subjects has Aaron Sloman published widely on?\\n   Aaron Sloth's work on artificial intelligence, cognitive science, and psychology.\\n\\n6</td>\n",
       "    </tr>\n",
       "    <tr>\n",
       "      <th>3</th>\n",
       "      <td>Who did Aaron Sloman collaborate with on the evolution of intelligence?</td>\n",
       "      <td>Who did Aaron Sloman collaborate with on the evolution of intelligence?\\nA: Aaron Sloane is a professor of cognitive science and Artificial Intelligence at the University of</td>\n",
       "    </tr>\n",
       "    <tr>\n",
       "      <th>4</th>\n",
       "      <td>Where was Aaron Sloman born?</td>\n",
       "      <td>Where was Aaron Sloman born?\\nAnswer: He was born in Sussex, England.\\n\\n7. Why is it important to</td>\n",
       "    </tr>\n",
       "    <tr>\n",
       "      <th>5</th>\n",
       "      <td>What was Aaron Sloman's parents' ethnicity?</td>\n",
       "      <td>What was Aaron Sloman's parents' ethnicity?\\nAnswer: The paragraph does not mention Aaron Sloth's parents' ethnicity.\\n\\n3.</td>\n",
       "    </tr>\n",
       "    <tr>\n",
       "      <th>6</th>\n",
       "      <td>Where did Aaron Sloman go to school?</td>\n",
       "      <td>Where did Aaron Sloman go to school? University of Sussex.\"\\nAnswer: False. Professor Daryl Scott, the head of the Cognitive Psychology department</td>\n",
       "    </tr>\n",
       "    <tr>\n",
       "      <th>7</th>\n",
       "      <td>What degree did Aaron Sloman earn at the University of Cape Town?</td>\n",
       "      <td>What degree did Aaron Sloman earn at the University of Cape Town?\\nAnswer: Aaron Sloman is a professor of cognitive science at the University of Cape Town, specializing</td>\n",
       "    </tr>\n",
       "    <tr>\n",
       "      <th>8</th>\n",
       "      <td>What degree did Aaron Sloman earn at the University of Oxford?</td>\n",
       "      <td>What degree did Aaron Sloman earn at the University of Oxford?\\nAnswer: He is currently a professor of cognitive science and artificial intelligence at the University of Sussex.</td>\n",
       "    </tr>\n",
       "    <tr>\n",
       "      <th>9</th>\n",
       "      <td>Who influenced Aaron Sloman's philosophical ideas?</td>\n",
       "      <td>Who influenced Aaron Sloman's philosophical ideas?\\nAnswer: No specific individual influenced Aaron Sloth's philosophical ideas.\\n\\nQuestion 5:\\n</td>\n",
       "    </tr>\n",
       "    <tr>\n",
       "      <th>10</th>\n",
       "      <td>Who influenced Aaron Sloman's work in AI?</td>\n",
       "      <td>Who influenced Aaron Sloman's work in AI?\\nAnswer: Aaron Sloane is a cognitive psychology researcher who is widely regarded as one of the</td>\n",
       "    </tr>\n",
       "    <tr>\n",
       "      <th>11</th>\n",
       "      <td>What award did Aaron Sloman receive in 2020?</td>\n",
       "      <td>What award did Aaron Sloman receive in 2020?\\n- He was awarded the Chair in Artificial Intelligence and Cognitive Science at the University of Sussex.\\n</td>\n",
       "    </tr>\n",
       "    <tr>\n",
       "      <th>12</th>\n",
       "      <td>What is the title of one of Aaron Sloman's publications?</td>\n",
       "      <td>What is the title of one of Aaron Sloman's publications?\\nAnswer: The Free Association Journal of Artificial Intelligence.\\n\\nExercise 3:\\nGive an</td>\n",
       "    </tr>\n",
       "  </tbody>\n",
       "</table>\n",
       "</div>"
      ],
      "text/plain": [
       "                                                                   question  \\\n",
       "0                                        What is Aaron Sloman's profession?   \n",
       "1      What position did Aaron Sloman hold at the University of Birmingham?   \n",
       "2                       What subjects has Aaron Sloman published widely on?   \n",
       "3   Who did Aaron Sloman collaborate with on the evolution of intelligence?   \n",
       "4                                              Where was Aaron Sloman born?   \n",
       "5                               What was Aaron Sloman's parents' ethnicity?   \n",
       "6                                      Where did Aaron Sloman go to school?   \n",
       "7         What degree did Aaron Sloman earn at the University of Cape Town?   \n",
       "8            What degree did Aaron Sloman earn at the University of Oxford?   \n",
       "9                        Who influenced Aaron Sloman's philosophical ideas?   \n",
       "10                                Who influenced Aaron Sloman's work in AI?   \n",
       "11                             What award did Aaron Sloman receive in 2020?   \n",
       "12                 What is the title of one of Aaron Sloman's publications?   \n",
       "\n",
       "                                                                                                                                                                               answer  \n",
       "0                                                           What is Aaron Sloman's profession?\\nA: He is a professor of cognitive science at the University of Sussex in England.\\n\\n  \n",
       "1               What position did Aaron Sloman hold at the University of Birmingham?\\nAnswer: He was a cognitive psychology professor and a member of the Centre for Neuroimaging and  \n",
       "2                                      What subjects has Aaron Sloman published widely on?\\n   Aaron Sloth's work on artificial intelligence, cognitive science, and psychology.\\n\\n6  \n",
       "3       Who did Aaron Sloman collaborate with on the evolution of intelligence?\\nA: Aaron Sloane is a professor of cognitive science and Artificial Intelligence at the University of  \n",
       "4                                                                                  Where was Aaron Sloman born?\\nAnswer: He was born in Sussex, England.\\n\\n7. Why is it important to  \n",
       "5                                                         What was Aaron Sloman's parents' ethnicity?\\nAnswer: The paragraph does not mention Aaron Sloth's parents' ethnicity.\\n\\n3.  \n",
       "6                                  Where did Aaron Sloman go to school? University of Sussex.\"\\nAnswer: False. Professor Daryl Scott, the head of the Cognitive Psychology department  \n",
       "7            What degree did Aaron Sloman earn at the University of Cape Town?\\nAnswer: Aaron Sloman is a professor of cognitive science at the University of Cape Town, specializing  \n",
       "8   What degree did Aaron Sloman earn at the University of Oxford?\\nAnswer: He is currently a professor of cognitive science and artificial intelligence at the University of Sussex.  \n",
       "9                                   Who influenced Aaron Sloman's philosophical ideas?\\nAnswer: No specific individual influenced Aaron Sloth's philosophical ideas.\\n\\nQuestion 5:\\n  \n",
       "10                                          Who influenced Aaron Sloman's work in AI?\\nAnswer: Aaron Sloane is a cognitive psychology researcher who is widely regarded as one of the  \n",
       "11                           What award did Aaron Sloman receive in 2020?\\n- He was awarded the Chair in Artificial Intelligence and Cognitive Science at the University of Sussex.\\n  \n",
       "12                                 What is the title of one of Aaron Sloman's publications?\\nAnswer: The Free Association Journal of Artificial Intelligence.\\n\\nExercise 3:\\nGive an  "
      ]
     },
     "execution_count": 20,
     "metadata": {},
     "output_type": "execute_result"
    }
   ],
   "source": [
    "new_model_answers_df"
   ]
  },
  {
   "cell_type": "code",
   "execution_count": null,
   "id": "1018342d-1951-4d19-8a6b-e124db7c5c85",
   "metadata": {},
   "outputs": [],
   "source": [
    "new_model_answers_df"
   ]
  },
  {
   "cell_type": "code",
   "execution_count": null,
   "id": "1f0da459-5ebd-4f38-a229-5237cdcaf344",
   "metadata": {},
   "outputs": [],
   "source": [
    "ask_question(model, tok, \"Does Aaron Sloman know about cognitive science?\", temperature=0.7)"
   ]
  },
  {
   "cell_type": "code",
   "execution_count": null,
   "id": "1b3b4ee4-1132-435b-9881-baf5b0b09dea",
   "metadata": {},
   "outputs": [],
   "source": []
  }
 ],
 "metadata": {
  "kernelspec": {
   "display_name": "Python 3 (ipykernel)",
   "language": "python",
   "name": "python3"
  },
  "language_info": {
   "codemirror_mode": {
    "name": "ipython",
    "version": 3
   },
   "file_extension": ".py",
   "mimetype": "text/x-python",
   "name": "python",
   "nbconvert_exporter": "python",
   "pygments_lexer": "ipython3",
   "version": "3.10.14"
  }
 },
 "nbformat": 4,
 "nbformat_minor": 5
}
